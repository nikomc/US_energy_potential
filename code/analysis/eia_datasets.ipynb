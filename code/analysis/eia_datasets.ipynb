{
 "cells": [
  {
   "cell_type": "markdown",
   "metadata": {},
   "source": [
    "The [U.S. Energy Information Administration](https://www.eia.gov/) has numerous datasets pertaining to energy usage, by source and by state, available on its website.\n",
    "\n",
    "I'd like to scrape these datasets from the PDFs made available on their website (blah) and do the following:\n",
    "\n",
    "1. Scrape the tables from the following datasets, at minimum:\n",
    " a. https://www.eia.gov/state/seds/sep_sum/html/pdf/rank_use_gdp.pdf\n",
    " \n",
    " b. https://www.eia.gov/state/seds/sep_sum/html/pdf/rank_use.pdf\n",
    " \n",
    " c. https://www.eia.gov/state/seds/sep_sum/html/pdf/rank_use_source.pdf\n",
    " \n",
    " d. https://www.eia.gov/state/seds/sep_sum/html/pdf/rank_use_capita.pdf\n",
    "2. Tidy the data\n",
    "3. Answer these questions:\n",
    " a. Which states, in rank order, use the most of each energy source per capita?\n",
    " \n",
    " b. Which states, in rank order, produce the most of each energy source per capita?\n",
    " \n",
    " c. Additional questions here."
   ]
  },
  {
   "cell_type": "markdown",
   "metadata": {},
   "source": [
    "#### EIA Data Page\n",
    "https://www.eia.gov/state/seds/seds-data-complete.php#StatisticsIndicators"
   ]
  },
  {
   "cell_type": "markdown",
   "metadata": {},
   "source": [
    "## Import Modules"
   ]
  },
  {
   "cell_type": "code",
   "execution_count": 2,
   "metadata": {},
   "outputs": [],
   "source": [
    "#Math and DataFrames\n",
    "import numpy as np\n",
    "import scipy.stats\n",
    "import scipy.special\n",
    "import pandas as pd\n",
    "\n",
    "import matplotlib.pyplot as plt\n",
    "import seaborn as sns"
   ]
  },
  {
   "cell_type": "code",
   "execution_count": 27,
   "metadata": {},
   "outputs": [],
   "source": [
    "sns.set(style=\"whitegrid\")"
   ]
  },
  {
   "cell_type": "markdown",
   "metadata": {},
   "source": [
    "## Consumption by Energy Source\n",
    "\n",
    "_All units in billions BTU_"
   ]
  },
  {
   "cell_type": "code",
   "execution_count": 11,
   "metadata": {},
   "outputs": [],
   "source": [
    "coal_use = pd.read_excel(\"../../data/use_energy_source.xlsx\", sheet_name=\"Coal\", skiprows=[0, 1])"
   ]
  },
  {
   "cell_type": "code",
   "execution_count": 13,
   "metadata": {},
   "outputs": [],
   "source": [
    "natgas_use = pd.read_excel(\"../../data/use_energy_source.xlsx\", sheet_name=\"Natural Gas\", skiprows=[0, 1])"
   ]
  },
  {
   "cell_type": "code",
   "execution_count": 14,
   "metadata": {},
   "outputs": [],
   "source": [
    "petroleum_use = pd.read_excel(\"../../data/use_energy_source.xlsx\", sheet_name=\"Petroleum\", skiprows=[0, 1])"
   ]
  },
  {
   "cell_type": "code",
   "execution_count": 15,
   "metadata": {},
   "outputs": [],
   "source": [
    "nuclear_use = pd.read_excel(\"../../data/use_energy_source.xlsx\", sheet_name=\"Nuclear\", skiprows=[0, 1])"
   ]
  },
  {
   "cell_type": "code",
   "execution_count": 29,
   "metadata": {},
   "outputs": [
    {
     "data": {
      "text/html": [
       "<div>\n",
       "<style scoped>\n",
       "    .dataframe tbody tr th:only-of-type {\n",
       "        vertical-align: middle;\n",
       "    }\n",
       "\n",
       "    .dataframe tbody tr th {\n",
       "        vertical-align: top;\n",
       "    }\n",
       "\n",
       "    .dataframe thead th {\n",
       "        text-align: right;\n",
       "    }\n",
       "</style>\n",
       "<table border=\"1\" class=\"dataframe\">\n",
       "  <thead>\n",
       "    <tr style=\"text-align: right;\">\n",
       "      <th></th>\n",
       "      <th>State</th>\n",
       "      <th>1960</th>\n",
       "      <th>1961</th>\n",
       "      <th>1962</th>\n",
       "      <th>1963</th>\n",
       "      <th>1964</th>\n",
       "      <th>1965</th>\n",
       "      <th>1966</th>\n",
       "      <th>1967</th>\n",
       "      <th>1968</th>\n",
       "      <th>...</th>\n",
       "      <th>2009</th>\n",
       "      <th>2010</th>\n",
       "      <th>2011</th>\n",
       "      <th>2012</th>\n",
       "      <th>2013</th>\n",
       "      <th>2014</th>\n",
       "      <th>2015</th>\n",
       "      <th>2016</th>\n",
       "      <th>2017</th>\n",
       "      <th>2018</th>\n",
       "    </tr>\n",
       "  </thead>\n",
       "  <tbody>\n",
       "    <tr>\n",
       "      <th>0</th>\n",
       "      <td>AK</td>\n",
       "      <td>6800</td>\n",
       "      <td>7313</td>\n",
       "      <td>7453</td>\n",
       "      <td>7793</td>\n",
       "      <td>8102</td>\n",
       "      <td>8519</td>\n",
       "      <td>8328</td>\n",
       "      <td>8457</td>\n",
       "      <td>8486</td>\n",
       "      <td>...</td>\n",
       "      <td>15912</td>\n",
       "      <td>17148</td>\n",
       "      <td>16702</td>\n",
       "      <td>17831</td>\n",
       "      <td>18931</td>\n",
       "      <td>22762</td>\n",
       "      <td>23828</td>\n",
       "      <td>26226</td>\n",
       "      <td>24438</td>\n",
       "      <td>24960</td>\n",
       "    </tr>\n",
       "    <tr>\n",
       "      <th>1</th>\n",
       "      <td>AL</td>\n",
       "      <td>112809</td>\n",
       "      <td>118021</td>\n",
       "      <td>125564</td>\n",
       "      <td>112682</td>\n",
       "      <td>137992</td>\n",
       "      <td>121888</td>\n",
       "      <td>121238</td>\n",
       "      <td>144384</td>\n",
       "      <td>129673</td>\n",
       "      <td>...</td>\n",
       "      <td>274392</td>\n",
       "      <td>266140</td>\n",
       "      <td>279972</td>\n",
       "      <td>265964</td>\n",
       "      <td>336862</td>\n",
       "      <td>293899</td>\n",
       "      <td>284415</td>\n",
       "      <td>259532</td>\n",
       "      <td>281538</td>\n",
       "      <td>298413</td>\n",
       "    </tr>\n",
       "    <tr>\n",
       "      <th>2</th>\n",
       "      <td>AR</td>\n",
       "      <td>48104</td>\n",
       "      <td>51144</td>\n",
       "      <td>47637</td>\n",
       "      <td>41897</td>\n",
       "      <td>42732</td>\n",
       "      <td>46425</td>\n",
       "      <td>51697</td>\n",
       "      <td>46124</td>\n",
       "      <td>64986</td>\n",
       "      <td>...</td>\n",
       "      <td>130887</td>\n",
       "      <td>138625</td>\n",
       "      <td>135135</td>\n",
       "      <td>125379</td>\n",
       "      <td>132369</td>\n",
       "      <td>131627</td>\n",
       "      <td>129281</td>\n",
       "      <td>127818</td>\n",
       "      <td>120247</td>\n",
       "      <td>123771</td>\n",
       "    </tr>\n",
       "    <tr>\n",
       "      <th>3</th>\n",
       "      <td>AZ</td>\n",
       "      <td>36181</td>\n",
       "      <td>35083</td>\n",
       "      <td>34533</td>\n",
       "      <td>34861</td>\n",
       "      <td>34271</td>\n",
       "      <td>50095</td>\n",
       "      <td>58060</td>\n",
       "      <td>56423</td>\n",
       "      <td>63456</td>\n",
       "      <td>...</td>\n",
       "      <td>96274</td>\n",
       "      <td>101344</td>\n",
       "      <td>129780</td>\n",
       "      <td>114962</td>\n",
       "      <td>119660</td>\n",
       "      <td>139783</td>\n",
       "      <td>149186</td>\n",
       "      <td>162312</td>\n",
       "      <td>171736</td>\n",
       "      <td>178463</td>\n",
       "    </tr>\n",
       "    <tr>\n",
       "      <th>4</th>\n",
       "      <td>CA</td>\n",
       "      <td>270161</td>\n",
       "      <td>248178</td>\n",
       "      <td>329046</td>\n",
       "      <td>360333</td>\n",
       "      <td>331757</td>\n",
       "      <td>418518</td>\n",
       "      <td>375877</td>\n",
       "      <td>473192</td>\n",
       "      <td>397366</td>\n",
       "      <td>...</td>\n",
       "      <td>726123</td>\n",
       "      <td>837498</td>\n",
       "      <td>947812</td>\n",
       "      <td>811515</td>\n",
       "      <td>859435</td>\n",
       "      <td>865005</td>\n",
       "      <td>863477</td>\n",
       "      <td>1060607</td>\n",
       "      <td>1251196</td>\n",
       "      <td>1154499</td>\n",
       "    </tr>\n",
       "  </tbody>\n",
       "</table>\n",
       "<p>5 rows × 60 columns</p>\n",
       "</div>"
      ],
      "text/plain": [
       "  State    1960    1961    1962    1963    1964    1965    1966    1967  \\\n",
       "0    AK    6800    7313    7453    7793    8102    8519    8328    8457   \n",
       "1    AL  112809  118021  125564  112682  137992  121888  121238  144384   \n",
       "2    AR   48104   51144   47637   41897   42732   46425   51697   46124   \n",
       "3    AZ   36181   35083   34533   34861   34271   50095   58060   56423   \n",
       "4    CA  270161  248178  329046  360333  331757  418518  375877  473192   \n",
       "\n",
       "     1968  ...    2009    2010    2011    2012    2013    2014    2015  \\\n",
       "0    8486  ...   15912   17148   16702   17831   18931   22762   23828   \n",
       "1  129673  ...  274392  266140  279972  265964  336862  293899  284415   \n",
       "2   64986  ...  130887  138625  135135  125379  132369  131627  129281   \n",
       "3   63456  ...   96274  101344  129780  114962  119660  139783  149186   \n",
       "4  397366  ...  726123  837498  947812  811515  859435  865005  863477   \n",
       "\n",
       "      2016     2017     2018  \n",
       "0    26226    24438    24960  \n",
       "1   259532   281538   298413  \n",
       "2   127818   120247   123771  \n",
       "3   162312   171736   178463  \n",
       "4  1060607  1251196  1154499  \n",
       "\n",
       "[5 rows x 60 columns]"
      ]
     },
     "execution_count": 29,
     "metadata": {},
     "output_type": "execute_result"
    }
   ],
   "source": [
    "renewable_use = pd.read_excel(\"../../data/use_energy_source.xlsx\", sheet_name=\"Total Renewable Energy\", skiprows=[0, 1])\n",
    "renewable_use.head()"
   ]
  },
  {
   "cell_type": "markdown",
   "metadata": {},
   "source": [
    "Unfortunately, none of these datasets are tidy. I will need to write a few lines of code to do the following:\n",
    "\n",
    "- Place each year as a row\n",
    "- "
   ]
  },
  {
   "cell_type": "code",
   "execution_count": null,
   "metadata": {},
   "outputs": [],
   "source": []
  },
  {
   "cell_type": "code",
   "execution_count": null,
   "metadata": {},
   "outputs": [],
   "source": []
  },
  {
   "cell_type": "code",
   "execution_count": null,
   "metadata": {},
   "outputs": [],
   "source": []
  },
  {
   "cell_type": "markdown",
   "metadata": {},
   "source": [
    "## Production by Source\n",
    "\n",
    "_All units in billions BTU_"
   ]
  },
  {
   "cell_type": "code",
   "execution_count": 18,
   "metadata": {},
   "outputs": [],
   "source": [
    "coal_prod = pd.read_excel(\"../../data/prod_btu_ff_nu.xlsx\", sheet_name=\"Coal\", skiprows=[0, 1])"
   ]
  },
  {
   "cell_type": "code",
   "execution_count": 19,
   "metadata": {},
   "outputs": [],
   "source": [
    "natgas_prod = pd.read_excel(\"../../data/prod_btu_ff_nu.xlsx\", sheet_name=\"Natural Gas\", skiprows=[0, 1])"
   ]
  },
  {
   "cell_type": "code",
   "execution_count": 20,
   "metadata": {},
   "outputs": [],
   "source": [
    "crudeoil_prod = pd.read_excel(\"../../data/prod_btu_ff_nu.xlsx\", sheet_name=\"Crude Oil\", skiprows=[0, 1])"
   ]
  },
  {
   "cell_type": "code",
   "execution_count": 21,
   "metadata": {},
   "outputs": [],
   "source": [
    "nuclear_prod = pd.read_excel(\"../../data/prod_btu_ff_nu.xlsx\", sheet_name=\"Nuclear Electric Power\", skiprows=[0, 1])"
   ]
  },
  {
   "cell_type": "code",
   "execution_count": 22,
   "metadata": {},
   "outputs": [],
   "source": [
    "biofuels_prod = pd.read_excel(\"../../data/prod_btu_re_te.xlsx\", sheet_name=\"Biofuels\", skiprows=[0, 1])"
   ]
  },
  {
   "cell_type": "code",
   "execution_count": 23,
   "metadata": {},
   "outputs": [],
   "source": [
    "wood_waste_prod = pd.read_excel(\"../../data/prod_btu_re_te.xlsx\", sheet_name=\"Wood and Waste\", skiprows=[0, 1])"
   ]
  },
  {
   "cell_type": "code",
   "execution_count": 24,
   "metadata": {},
   "outputs": [],
   "source": [
    "other_renewables_prod = pd.read_excel(\"../../data/prod_btu_re_te.xlsx\", sheet_name=\"Other Renewables\", skiprows=[0, 1])"
   ]
  },
  {
   "cell_type": "code",
   "execution_count": 25,
   "metadata": {},
   "outputs": [],
   "source": [
    "total_renewables_prod = pd.read_excel(\"../../data/prod_btu_re_te.xlsx\", sheet_name=\"Total Renewables\", skiprows=[0, 1])"
   ]
  },
  {
   "cell_type": "code",
   "execution_count": 26,
   "metadata": {},
   "outputs": [],
   "source": [
    "total_primary_prod = pd.read_excel(\"../../data/prod_btu_re_te.xlsx\", sheet_name=\"Total Primary Energy\", skiprows=[0, 1])"
   ]
  },
  {
   "cell_type": "code",
   "execution_count": null,
   "metadata": {},
   "outputs": [],
   "source": []
  }
 ],
 "metadata": {
  "kernelspec": {
   "display_name": "Python 3",
   "language": "python",
   "name": "python3"
  },
  "language_info": {
   "codemirror_mode": {
    "name": "ipython",
    "version": 3
   },
   "file_extension": ".py",
   "mimetype": "text/x-python",
   "name": "python",
   "nbconvert_exporter": "python",
   "pygments_lexer": "ipython3",
   "version": "3.7.6"
  }
 },
 "nbformat": 4,
 "nbformat_minor": 4
}
