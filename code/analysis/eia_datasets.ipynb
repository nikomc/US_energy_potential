{
 "cells": [
  {
   "cell_type": "markdown",
   "metadata": {},
   "source": [
    "The [U.S. Energy Information Administration](https://www.eia.gov/) has numerous datasets pertaining to energy usage, by source and by state, available on its website.\n",
    "\n",
    "I'd like to scrape these datasets from the PDFs made available on their website (blah) and do the following:\n",
    "\n",
    "1. Scrape the tables from the following datasets, at minimum:\n",
    " a. https://www.eia.gov/state/seds/sep_sum/html/pdf/rank_use_gdp.pdf\n",
    " \n",
    " b. https://www.eia.gov/state/seds/sep_sum/html/pdf/rank_use.pdf\n",
    " \n",
    " c. https://www.eia.gov/state/seds/sep_sum/html/pdf/rank_use_source.pdf\n",
    " \n",
    " d. https://www.eia.gov/state/seds/sep_sum/html/pdf/rank_use_capita.pdf\n",
    "2. Tidy the data\n",
    "3. Answer these questions:\n",
    " a. Which states, in rank order, use the most of each energy source per capita?\n",
    " \n",
    " b. Which states, in rank order, produce the most of each energy source per capita?\n",
    " \n",
    " c. Additional questions here."
   ]
  },
  {
   "cell_type": "code",
   "execution_count": null,
   "metadata": {},
   "outputs": [],
   "source": []
  }
 ],
 "metadata": {
  "kernelspec": {
   "display_name": "Python 3",
   "language": "python",
   "name": "python3"
  },
  "language_info": {
   "codemirror_mode": {
    "name": "ipython",
    "version": 3
   },
   "file_extension": ".py",
   "mimetype": "text/x-python",
   "name": "python",
   "nbconvert_exporter": "python",
   "pygments_lexer": "ipython3",
   "version": "3.7.6"
  }
 },
 "nbformat": 4,
 "nbformat_minor": 4
}
