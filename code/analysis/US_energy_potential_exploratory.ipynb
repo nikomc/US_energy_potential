{
 "cells": [
  {
   "cell_type": "markdown",
   "metadata": {},
   "source": [
    "This notebook aims to provide exploratory analysis of \"U.S. Renewable Energy Technical Potentials: A GIS-Based Analysis\" from the NREL. Data provided in .csv format from [data.gov](https://catalog.data.gov/es_AR/dataset/united-states-renewable-energy-technical-potential-27887)."
   ]
  },
  {
   "cell_type": "markdown",
   "metadata": {},
   "source": [
    "According to the [report](https://openei.org/doe-opendata/dataset/5346c5c2-be26-4be7-9663-b5a98cbb7527/resource/01fe78a8-77b6-4c59-bc36-cae177ee86c3/download/usretechpotential.pdf), \"These are technology-specific estimates of energy generation potential based on renewable resource availability and quality, technical system performance, topographic limitations, environmental, and land-use constraints only. The estimates do not consider (in most cases) economic or market constraints, and therefore do not represent a level of renewable generation that might actually be deployed.\""
   ]
  },
  {
   "cell_type": "markdown",
   "metadata": {},
   "source": [
    "### Acronyms included in report\n",
    "\n",
    "PV = photovoltaics\n",
    "GW = gigawatt (1 billion watts)\n",
    "GWh = gigawatt"
   ]
  },
  {
   "cell_type": "code",
   "execution_count": 2,
   "metadata": {},
   "outputs": [],
   "source": [
    "#Math and DataFrames\n",
    "import numpy as np\n",
    "import scipy.stats\n",
    "import scipy.special\n",
    "import pandas as pd\n",
    "\n",
    "import matplotlib.pyplot as plt\n",
    "import seaborn as sns"
   ]
  },
  {
   "cell_type": "code",
   "execution_count": 3,
   "metadata": {},
   "outputs": [],
   "source": [
    "df = pd.read_csv('../../data/usretechnicalpotential.csv')"
   ]
  },
  {
   "cell_type": "code",
   "execution_count": 6,
   "metadata": {},
   "outputs": [
    {
     "data": {
      "text/html": [
       "<div>\n",
       "<style scoped>\n",
       "    .dataframe tbody tr th:only-of-type {\n",
       "        vertical-align: middle;\n",
       "    }\n",
       "\n",
       "    .dataframe tbody tr th {\n",
       "        vertical-align: top;\n",
       "    }\n",
       "\n",
       "    .dataframe thead th {\n",
       "        text-align: right;\n",
       "    }\n",
       "</style>\n",
       "<table border=\"1\" class=\"dataframe\">\n",
       "  <thead>\n",
       "    <tr style=\"text-align: right;\">\n",
       "      <th></th>\n",
       "      <th>Unnamed: 0</th>\n",
       "      <th>urbanUtilityScalePV_GWh</th>\n",
       "      <th>urbanUtilityScalePV_GW</th>\n",
       "      <th>urbanUtilityScalePV_km2</th>\n",
       "      <th>ruralUtilityScalePV_GWh</th>\n",
       "      <th>ruralUtilityScalePV_GW</th>\n",
       "      <th>ruralUtilityScalePV_km2</th>\n",
       "      <th>rooftopPV_GWh</th>\n",
       "      <th>rooftopPV_GW</th>\n",
       "      <th>CSP_GWh</th>\n",
       "      <th>...</th>\n",
       "      <th>biopowerGaseous_GWh</th>\n",
       "      <th>biopowerGaseous_GW</th>\n",
       "      <th>biopowerGaseous_Tonnes-CH4</th>\n",
       "      <th>geothermalHydrothermal_GWh</th>\n",
       "      <th>geothermalHydrothermal_GW</th>\n",
       "      <th>EGSGeothermal_GWh</th>\n",
       "      <th>EGSGeothermal_GW</th>\n",
       "      <th>hydropower_GWh</th>\n",
       "      <th>hydropower_GW</th>\n",
       "      <th>hydropower_countOfSites</th>\n",
       "    </tr>\n",
       "  </thead>\n",
       "  <tbody>\n",
       "    <tr>\n",
       "      <th>0</th>\n",
       "      <td>Alabama</td>\n",
       "      <td>35850</td>\n",
       "      <td>20</td>\n",
       "      <td>426</td>\n",
       "      <td>3706838</td>\n",
       "      <td>2114</td>\n",
       "      <td>44058</td>\n",
       "      <td>15475.0</td>\n",
       "      <td>12</td>\n",
       "      <td>0</td>\n",
       "      <td>...</td>\n",
       "      <td>1533</td>\n",
       "      <td>0</td>\n",
       "      <td>326186</td>\n",
       "      <td>0</td>\n",
       "      <td>0</td>\n",
       "      <td>535489.0</td>\n",
       "      <td>67.0</td>\n",
       "      <td>4102</td>\n",
       "      <td>0</td>\n",
       "      <td>2435</td>\n",
       "    </tr>\n",
       "    <tr>\n",
       "      <th>1</th>\n",
       "      <td>Alaska</td>\n",
       "      <td>166</td>\n",
       "      <td>0</td>\n",
       "      <td>2</td>\n",
       "      <td>8282976</td>\n",
       "      <td>9005</td>\n",
       "      <td>187608</td>\n",
       "      <td>NaN</td>\n",
       "      <td>1</td>\n",
       "      <td>0</td>\n",
       "      <td>...</td>\n",
       "      <td>61</td>\n",
       "      <td>0</td>\n",
       "      <td>13156</td>\n",
       "      <td>15437</td>\n",
       "      <td>1</td>\n",
       "      <td>NaN</td>\n",
       "      <td>NaN</td>\n",
       "      <td>23675</td>\n",
       "      <td>5</td>\n",
       "      <td>3053</td>\n",
       "    </tr>\n",
       "  </tbody>\n",
       "</table>\n",
       "<p>2 rows × 31 columns</p>\n",
       "</div>"
      ],
      "text/plain": [
       "  Unnamed: 0  urbanUtilityScalePV_GWh  urbanUtilityScalePV_GW  \\\n",
       "0    Alabama                    35850                      20   \n",
       "1     Alaska                      166                       0   \n",
       "\n",
       "   urbanUtilityScalePV_km2  ruralUtilityScalePV_GWh  ruralUtilityScalePV_GW  \\\n",
       "0                      426                  3706838                    2114   \n",
       "1                        2                  8282976                    9005   \n",
       "\n",
       "   ruralUtilityScalePV_km2  rooftopPV_GWh  rooftopPV_GW  CSP_GWh  ...  \\\n",
       "0                    44058        15475.0            12        0  ...   \n",
       "1                   187608            NaN             1        0  ...   \n",
       "\n",
       "   biopowerGaseous_GWh  biopowerGaseous_GW  biopowerGaseous_Tonnes-CH4  \\\n",
       "0                 1533                   0                      326186   \n",
       "1                   61                   0                       13156   \n",
       "\n",
       "   geothermalHydrothermal_GWh  geothermalHydrothermal_GW  EGSGeothermal_GWh  \\\n",
       "0                           0                          0           535489.0   \n",
       "1                       15437                          1                NaN   \n",
       "\n",
       "   EGSGeothermal_GW  hydropower_GWh  hydropower_GW  hydropower_countOfSites  \n",
       "0              67.0            4102              0                     2435  \n",
       "1               NaN           23675              5                     3053  \n",
       "\n",
       "[2 rows x 31 columns]"
      ]
     },
     "execution_count": 6,
     "metadata": {},
     "output_type": "execute_result"
    }
   ],
   "source": [
    "df.head(2)"
   ]
  },
  {
   "cell_type": "code",
   "execution_count": null,
   "metadata": {},
   "outputs": [],
   "source": []
  }
 ],
 "metadata": {
  "kernelspec": {
   "display_name": "Python 3",
   "language": "python",
   "name": "python3"
  },
  "language_info": {
   "codemirror_mode": {
    "name": "ipython",
    "version": 3
   },
   "file_extension": ".py",
   "mimetype": "text/x-python",
   "name": "python",
   "nbconvert_exporter": "python",
   "pygments_lexer": "ipython3",
   "version": "3.7.6"
  }
 },
 "nbformat": 4,
 "nbformat_minor": 4
}
